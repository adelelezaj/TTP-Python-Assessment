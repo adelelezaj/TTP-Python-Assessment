{
 "cells": [
  {
   "cell_type": "code",
   "execution_count": null,
   "metadata": {},
   "outputs": [],
   "source": [
    "''' #1\n",
    "Write a function called 'addBetween'.\n",
    "\n",
    "Given 2 integers, \"addBetween\" returns the sum \n",
    "of all numbers between the two given integers, \n",
    "beginning at num1, and excluding num2.\n",
    "\n",
    "\n",
    "If num2 is not greater than num1, the function should return 0.\n",
    "output = addBetween(3, 7)\n",
    "print(output) # --> 18\n",
    "'''"
   ]
  },
  {
   "cell_type": "code",
   "execution_count": 3,
   "metadata": {},
   "outputs": [
    {
     "name": "stdout",
     "output_type": "stream",
     "text": [
      "18\n"
     ]
    }
   ],
   "source": [
    "def addBetween(num1, num2):\n",
    "    if num2 < num1:\n",
    "        return 0\n",
    "    else:\n",
    "        sum = 0\n",
    "        for n in range (num1, num2):\n",
    "            sum += n\n",
    "        return sum\n",
    "\n",
    "output = addBetween(3,7)\n",
    "\n",
    "print(output)"
   ]
  },
  {
   "cell_type": "code",
   "execution_count": null,
   "metadata": {},
   "outputs": [],
   "source": [
    "''' #2\n",
    "write a function called 'combine'\n",
    "\n",
    "Given two lists, combine returns a new list\n",
    "with all elements of both lists, sorted\n",
    "\n",
    "lst1 = ['b', 'c','a','f']\n",
    "lst2 = ['d','e','g']\n",
    "\n",
    "output = combine(lst1,lst2)\n",
    "print(output) # -> ['a','b','c','d','e','f', 'g']"
   ]
  },
  {
   "cell_type": "code",
   "execution_count": 37,
   "metadata": {},
   "outputs": [
    {
     "ename": "NameError",
     "evalue": "name 'both_lists' is not defined",
     "output_type": "error",
     "traceback": [
      "\u001b[0;31m---------------------------------------------------------------------------\u001b[0m",
      "\u001b[0;31mNameError\u001b[0m                                 Traceback (most recent call last)",
      "\u001b[0;32m<ipython-input-37-126d7a1af0ae>\u001b[0m in \u001b[0;36m<module>\u001b[0;34m\u001b[0m\n\u001b[1;32m      7\u001b[0m \u001b[0mlst2\u001b[0m \u001b[0;34m=\u001b[0m \u001b[0;34m[\u001b[0m\u001b[0;34m'd'\u001b[0m\u001b[0;34m,\u001b[0m\u001b[0;34m'e'\u001b[0m\u001b[0;34m,\u001b[0m\u001b[0;34m'g'\u001b[0m\u001b[0;34m]\u001b[0m\u001b[0;34m\u001b[0m\u001b[0;34m\u001b[0m\u001b[0m\n\u001b[1;32m      8\u001b[0m \u001b[0;34m\u001b[0m\u001b[0m\n\u001b[0;32m----> 9\u001b[0;31m \u001b[0moutput\u001b[0m \u001b[0;34m=\u001b[0m \u001b[0mcombine\u001b[0m\u001b[0;34m(\u001b[0m\u001b[0mlst1\u001b[0m\u001b[0;34m,\u001b[0m\u001b[0mlst2\u001b[0m\u001b[0;34m)\u001b[0m\u001b[0;34m\u001b[0m\u001b[0;34m\u001b[0m\u001b[0m\n\u001b[0m\u001b[1;32m     10\u001b[0m \u001b[0mprint\u001b[0m\u001b[0;34m(\u001b[0m\u001b[0moutput\u001b[0m\u001b[0;34m)\u001b[0m\u001b[0;34m\u001b[0m\u001b[0;34m\u001b[0m\u001b[0m\n",
      "\u001b[0;32m<ipython-input-37-126d7a1af0ae>\u001b[0m in \u001b[0;36mcombine\u001b[0;34m(lst1, lst2)\u001b[0m\n\u001b[1;32m      1\u001b[0m \u001b[0;32mdef\u001b[0m \u001b[0mcombine\u001b[0m\u001b[0;34m(\u001b[0m\u001b[0mlst1\u001b[0m\u001b[0;34m,\u001b[0m\u001b[0mlst2\u001b[0m\u001b[0;34m)\u001b[0m\u001b[0;34m:\u001b[0m\u001b[0;34m\u001b[0m\u001b[0;34m\u001b[0m\u001b[0m\n\u001b[0;32m----> 2\u001b[0;31m     \u001b[0;32mfor\u001b[0m \u001b[0mitems\u001b[0m \u001b[0;32min\u001b[0m \u001b[0mboth_lists\u001b[0m\u001b[0;34m:\u001b[0m\u001b[0;34m\u001b[0m\u001b[0;34m\u001b[0m\u001b[0m\n\u001b[0m\u001b[1;32m      3\u001b[0m         \u001b[0mnew_list\u001b[0m \u001b[0;34m=\u001b[0m \u001b[0;34m[\u001b[0m\u001b[0;34m]\u001b[0m\u001b[0;34m\u001b[0m\u001b[0;34m\u001b[0m\u001b[0m\n\u001b[1;32m      4\u001b[0m         \u001b[0;32mreturn\u001b[0m \u001b[0msort\u001b[0m\u001b[0;34m.\u001b[0m\u001b[0mlst1\u001b[0m\u001b[0;34m(\u001b[0m\u001b[0;34m)\u001b[0m \u001b[0;34m+\u001b[0m \u001b[0msort\u001b[0m\u001b[0;34m.\u001b[0m\u001b[0mlst2\u001b[0m\u001b[0;34m(\u001b[0m\u001b[0;34m)\u001b[0m\u001b[0;34m\u001b[0m\u001b[0;34m\u001b[0m\u001b[0m\n\u001b[1;32m      5\u001b[0m \u001b[0;34m\u001b[0m\u001b[0m\n",
      "\u001b[0;31mNameError\u001b[0m: name 'both_lists' is not defined"
     ]
    }
   ],
   "source": [
    "def combine(lst1,lst2):\n",
    "    new_list = []\n",
    "    for items in both_lists():\n",
    "        return (sorted.lst1() + sorted.lst2())\n",
    "    \n",
    "    \n",
    "\n",
    "lst1 = ['b', 'c','a','f']\n",
    "lst2 = ['d','e','g']\n",
    "\n",
    "output = combine(lst1,lst2)\n",
    "print(output)"
   ]
  },
  {
   "cell_type": "code",
   "execution_count": null,
   "metadata": {},
   "outputs": [],
   "source": [
    "''' #3\n",
    "write a function called 'switch'\n",
    "Given a dictionary, the function switch returns a new dictionary\n",
    "with the keys and values reversed\n",
    "\n",
    "d = {'cat': 1, 'dog':2, 'parrot':3, 'raptor':4, 'snake':5}\n",
    "output = switch(d)\n",
    "print(output) # -> {1:'cat', 2:'dog', 3:'parrot', 4:'raptor', 5:'snake'}\n",
    "\n",
    "'''"
   ]
  },
  {
   "cell_type": "code",
   "execution_count": 43,
   "metadata": {},
   "outputs": [
    {
     "name": "stdout",
     "output_type": "stream",
     "text": [
      "{1: 'cat', 2: 'dog', 3: 'parrot', 4: 'raptor', 5: 'snake'}\n"
     ]
    }
   ],
   "source": [
    "def switch(dic):\n",
    "    new_dic = {} \n",
    "    for key in dic.keys():\n",
    "        new_dic[dic.get(key)] = key\n",
    "    return new_dic\n",
    "d = {'cat': 1, 'dog':2, 'parrot':3, 'raptor':4, 'snake':5}\n",
    "output = switch(d)\n",
    "print(output)"
   ]
  },
  {
   "cell_type": "code",
   "execution_count": 15,
   "metadata": {},
   "outputs": [
    {
     "data": {
      "text/plain": [
       "' #4\\nWrite a function called \\'isSameLength\\'.\\n\\nGiven two words, \"isSameLength\" returns whether the given \\nwords have the same length.\\n\\noutput = isSameLength(\\'words\\', \\'super\\')\\nprint(output) # --> True\\n'"
      ]
     },
     "execution_count": 15,
     "metadata": {},
     "output_type": "execute_result"
    }
   ],
   "source": [
    "''' #4\n",
    "Write a function called 'isSameLength'.\n",
    "\n",
    "Given two words, \"isSameLength\" returns whether the given \n",
    "words have the same length.\n",
    "\n",
    "output = isSameLength('words', 'super')\n",
    "print(output) # --> True\n",
    "'''"
   ]
  },
  {
   "cell_type": "code",
   "execution_count": 17,
   "metadata": {},
   "outputs": [
    {
     "name": "stdout",
     "output_type": "stream",
     "text": [
      "True\n"
     ]
    }
   ],
   "source": [
    "def isSameLength(word1,word2):\n",
    "    if len(word1) == len(word2):\n",
    "        return True\n",
    "    else:\n",
    "        return False\n",
    "output = isSameLength('words', 'super')\n",
    "print(output)"
   ]
  },
  {
   "cell_type": "code",
   "execution_count": null,
   "metadata": {},
   "outputs": [],
   "source": [
    "''' #5\n",
    "write a function called 'stringToWords'\n",
    "given a string with two sentences, stringToWords\n",
    "separate the sentences into two lists of words, one for each sentence.\n",
    "\n",
    "string1 = \"This was a sentence. And it's now a list.\"\n",
    "output = stringToWords(string1)\n",
    "print(output) ->  ['This', 'was', 'a', 'sentence'],['And', \"it's\", 'now', 'a', 'list']\n",
    "\n",
    "'''"
   ]
  },
  {
   "cell_type": "code",
   "execution_count": null,
   "metadata": {},
   "outputs": [],
   "source": [
    "''' #6\n",
    "write a function called 'bigSixSmall'\n",
    "\n",
    "given a list of numbers, bigSixSmall returns a new list:\n",
    "if the number from the list is > 6, the new list should have \"Big\" in it\n",
    "if the number from the list is 6, the new list should have \"Six\" in it\n",
    "if the number from the list is < 6, the list should say \"Small\"\n",
    "\n",
    "list1 = [1,7,2,6,13]\n",
    "\n",
    "output = bigSixSmall(list1)\n",
    "print(output)  #-> ['Small', 'Big', 'Small', 'Six', 'Big' ] \n",
    "'''\n",
    "\n"
   ]
  },
  {
   "cell_type": "code",
   "execution_count": 26,
   "metadata": {},
   "outputs": [
    {
     "ename": "SyntaxError",
     "evalue": "invalid syntax (<ipython-input-26-c3cab2c9b19a>, line 9)",
     "output_type": "error",
     "traceback": [
      "\u001b[0;36m  File \u001b[0;32m\"<ipython-input-26-c3cab2c9b19a>\"\u001b[0;36m, line \u001b[0;32m9\u001b[0m\n\u001b[0;31m    else x < 6:\u001b[0m\n\u001b[0m         ^\u001b[0m\n\u001b[0;31mSyntaxError\u001b[0m\u001b[0;31m:\u001b[0m invalid syntax\n"
     ]
    }
   ],
   "source": [
    "def bigSixSmall(lst):\n",
    "    if x in lst:\n",
    "        new_lst = []\n",
    "        for x in lst():\n",
    "            if x > 6:\n",
    "                print('Big')\n",
    "            elif x == 6:\n",
    "                print('Six')\n",
    "            else x < 6:\n",
    "                print('Small')\n",
    "            return new_lst\n",
    "\n",
    "list1 = [1,7,2,6,13]\n",
    "output = bigSixSmall(list1)\n",
    "print(output)"
   ]
  },
  {
   "cell_type": "code",
   "execution_count": null,
   "metadata": {},
   "outputs": [],
   "source": [
    "''' #7\n",
    "Write a function called 'select'.\n",
    "\n",
    "Given list and a dictionary, \"select\" returns a new dictionary\n",
    "whose keys are those in the given dictionary which are present \n",
    "in the given list.\n",
    "\n",
    "Notes:\n",
    "\n",
    "If keys are present in the given list, but are not in the given \n",
    "dictionary, it should ignore them.\n",
    "It does not modify the passed in dictionary.\n",
    "input_list = ['a', 'c', 'e']\n",
    "input_dict = {'a': 1, 'b': 2, 'c': 3, 'd': 4}\n",
    "\n",
    "output = select(input_list, input_dict)\n",
    "print(output) # --> {'a': 1, 'c': 3}\n",
    "\n",
    "print(input_dict) # --> {'a': 1, 'b': 2, 'c': 3, 'd': 4}\n",
    "'''"
   ]
  },
  {
   "cell_type": "code",
   "execution_count": null,
   "metadata": {},
   "outputs": [],
   "source": [
    "''' #8\n",
    "Write a function called 'to_dictionary' that takes in\n",
    "a list of numbers as input\n",
    "and returns a dictionary.\n",
    "\n",
    "The keys should be each number from the input list,\n",
    "and the values should be \n",
    "True if the number is even \n",
    "or False if the number is odd\n",
    "\n",
    "output = to_dictionary([3,6,9,12,15])\n",
    "print(output) -->  {3:False, 6:True, 9:False, 12:True, 15:False}\n",
    "'''"
   ]
  },
  {
   "cell_type": "code",
   "execution_count": 45,
   "metadata": {},
   "outputs": [
    {
     "ename": "NameError",
     "evalue": "name 'v' is not defined",
     "output_type": "error",
     "traceback": [
      "\u001b[0;31m---------------------------------------------------------------------------\u001b[0m",
      "\u001b[0;31mNameError\u001b[0m                                 Traceback (most recent call last)",
      "\u001b[0;32m<ipython-input-45-8351f533e7e1>\u001b[0m in \u001b[0;36m<module>\u001b[0;34m\u001b[0m\n\u001b[1;32m     10\u001b[0m                 \u001b[0mprint\u001b[0m\u001b[0;34m(\u001b[0m\u001b[0;34m'True'\u001b[0m\u001b[0;34m)\u001b[0m\u001b[0;34m\u001b[0m\u001b[0;34m\u001b[0m\u001b[0m\n\u001b[1;32m     11\u001b[0m \u001b[0;34m\u001b[0m\u001b[0m\n\u001b[0;32m---> 12\u001b[0;31m \u001b[0moutput\u001b[0m \u001b[0;34m=\u001b[0m \u001b[0mto_dictionary\u001b[0m\u001b[0;34m(\u001b[0m\u001b[0;34m[\u001b[0m\u001b[0;36m3\u001b[0m\u001b[0;34m,\u001b[0m\u001b[0;36m6\u001b[0m\u001b[0;34m,\u001b[0m\u001b[0;36m9\u001b[0m\u001b[0;34m,\u001b[0m\u001b[0;36m12\u001b[0m\u001b[0;34m,\u001b[0m\u001b[0;36m15\u001b[0m\u001b[0;34m]\u001b[0m\u001b[0;34m)\u001b[0m\u001b[0;34m\u001b[0m\u001b[0;34m\u001b[0m\u001b[0m\n\u001b[0m\u001b[1;32m     13\u001b[0m \u001b[0mprint\u001b[0m\u001b[0;34m(\u001b[0m\u001b[0moutput\u001b[0m\u001b[0;34m)\u001b[0m\u001b[0;34m\u001b[0m\u001b[0;34m\u001b[0m\u001b[0m\n",
      "\u001b[0;32m<ipython-input-45-8351f533e7e1>\u001b[0m in \u001b[0;36mto_dictionary\u001b[0;34m(lst)\u001b[0m\n\u001b[1;32m      1\u001b[0m \u001b[0;32mdef\u001b[0m \u001b[0mto_dictionary\u001b[0m\u001b[0;34m(\u001b[0m\u001b[0mlst\u001b[0m\u001b[0;34m)\u001b[0m\u001b[0;34m:\u001b[0m\u001b[0;34m\u001b[0m\u001b[0;34m\u001b[0m\u001b[0m\n\u001b[0;32m----> 2\u001b[0;31m     \u001b[0;32mif\u001b[0m \u001b[0mv\u001b[0m \u001b[0;32min\u001b[0m \u001b[0mmy_list\u001b[0m\u001b[0;34m(\u001b[0m\u001b[0mv\u001b[0m\u001b[0;34m)\u001b[0m\u001b[0;34m:\u001b[0m\u001b[0;34m\u001b[0m\u001b[0;34m\u001b[0m\u001b[0m\n\u001b[0m\u001b[1;32m      3\u001b[0m         \u001b[0mnew_dict\u001b[0m \u001b[0;34m=\u001b[0m \u001b[0;34m{\u001b[0m\u001b[0;34m}\u001b[0m\u001b[0;34m\u001b[0m\u001b[0;34m\u001b[0m\u001b[0m\n\u001b[1;32m      4\u001b[0m         \u001b[0;32mfor\u001b[0m \u001b[0mk\u001b[0m \u001b[0;32min\u001b[0m \u001b[0md\u001b[0m\u001b[0;34m[\u001b[0m\u001b[0mk\u001b[0m\u001b[0;34m]\u001b[0m\u001b[0;34m:\u001b[0m\u001b[0;34m\u001b[0m\u001b[0;34m\u001b[0m\u001b[0m\n\u001b[1;32m      5\u001b[0m             \u001b[0;32mif\u001b[0m \u001b[0mv\u001b[0m\u001b[0;34m%\u001b[0m\u001b[0;36m2\u001b[0m \u001b[0;34m!=\u001b[0m \u001b[0;36m0\u001b[0m\u001b[0;34m:\u001b[0m\u001b[0;34m\u001b[0m\u001b[0;34m\u001b[0m\u001b[0m\n",
      "\u001b[0;31mNameError\u001b[0m: name 'v' is not defined"
     ]
    }
   ],
   "source": [
    "def to_dictionary(lst):\n",
    "    if v in my_list(v): \n",
    "        new_dict = {} \n",
    "        for k in d[k]:\n",
    "            if v%2 != 0:\n",
    "                my_list(v).append(new_dict)\n",
    "                print('False')\n",
    "            \n",
    "            else: \n",
    "                print('True')\n",
    "            \n",
    "output = to_dictionary([3,6,9,12,15])\n",
    "print(output)"
   ]
  },
  {
   "cell_type": "code",
   "execution_count": null,
   "metadata": {},
   "outputs": [],
   "source": []
  }
 ],
 "metadata": {
  "kernelspec": {
   "display_name": "Python 3",
   "language": "python",
   "name": "python3"
  },
  "language_info": {
   "codemirror_mode": {
    "name": "ipython",
    "version": 3
   },
   "file_extension": ".py",
   "mimetype": "text/x-python",
   "name": "python",
   "nbconvert_exporter": "python",
   "pygments_lexer": "ipython3",
   "version": "3.7.3"
  }
 },
 "nbformat": 4,
 "nbformat_minor": 2
}
